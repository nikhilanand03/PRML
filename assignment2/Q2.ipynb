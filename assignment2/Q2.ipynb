{
 "cells": [
  {
   "cell_type": "markdown",
   "metadata": {},
   "source": [
    "Question 2: (i)"
   ]
  },
  {
   "cell_type": "code",
   "execution_count": 395,
   "metadata": {},
   "outputs": [],
   "source": [
    "import numpy as np\n",
    "import pandas as pd\n",
    "import matplotlib.pyplot as plt"
   ]
  },
  {
   "cell_type": "code",
   "execution_count": 449,
   "metadata": {},
   "outputs": [],
   "source": [
    "train = pd.read_csv(\"./A2Data_train.csv\",header=None)\n",
    "train = np.array(train)"
   ]
  },
  {
   "cell_type": "code",
   "execution_count": 450,
   "metadata": {},
   "outputs": [
    {
     "data": {
      "text/plain": [
       "(10000, 101)"
      ]
     },
     "execution_count": 450,
     "metadata": {},
     "output_type": "execute_result"
    }
   ],
   "source": [
    "train.shape"
   ]
  },
  {
   "cell_type": "code",
   "execution_count": 451,
   "metadata": {},
   "outputs": [
    {
     "data": {
      "text/plain": [
       "((100, 10000), (10000,))"
      ]
     },
     "execution_count": 451,
     "metadata": {},
     "output_type": "execute_result"
    }
   ],
   "source": [
    "X = train[:,:100].T\n",
    "y = train[:,100]\n",
    "X.shape, y.shape"
   ]
  },
  {
   "cell_type": "code",
   "execution_count": 452,
   "metadata": {},
   "outputs": [],
   "source": [
    "whist = []\n",
    "w = np.ones((100,))\n",
    "for i in range(100): # take lambda as 0.1\n",
    "    whist.append(w)\n",
    "    grad = np.dot(X, np.dot(X.T, w)) - np.dot(X,y) + 0.1*w\n",
    "    w = w - 0.000001*grad"
   ]
  },
  {
   "cell_type": "code",
   "execution_count": 453,
   "metadata": {},
   "outputs": [],
   "source": [
    "wtrue = np.dot(np.linalg.inv(np.dot(X,X.T)+0.1*np.eye(X.shape[0])),np.dot(X,y))"
   ]
  },
  {
   "cell_type": "code",
   "execution_count": 454,
   "metadata": {},
   "outputs": [
    {
     "data": {
      "image/png": "[encoded data removed]",
      "text/plain": [
       "<Figure size 640x480 with 1 Axes>"
      ]
     },
     "metadata": {},
     "output_type": "display_data"
    }
   ],
   "source": [
    "arr = [np.linalg.norm(whist[i]-wtrue) for i in range(len(whist))]\n",
    "plt.plot(arr)\n",
    "plt.title(\"Ridge regression gradient descent at lambda = 0.1\")\n",
    "plt.xlabel('Iteration')\n",
    "plt.ylabel('||w_hist[i] - w||')\n",
    "plt.show()"
   ]
  },
  {
   "cell_type": "code",
   "execution_count": 455,
   "metadata": {},
   "outputs": [
    {
     "data": {
      "text/plain": [
       "1.4437237240194059"
      ]
     },
     "execution_count": 455,
     "metadata": {},
     "output_type": "execute_result"
    }
   ],
   "source": [
    "np.linalg.norm(whist[-1] - wtrue)"
   ]
  },
  {
   "cell_type": "code",
   "execution_count": 456,
   "metadata": {},
   "outputs": [
    {
     "data": {
      "text/plain": [
       "((100, 500), (500,))"
      ]
     },
     "execution_count": 456,
     "metadata": {},
     "output_type": "execute_result"
    }
   ],
   "source": [
    "# How does wtrue behave on the test dataset?\n",
    "test = np.array(pd.read_csv(\"A2Data_test.csv\",header=None))\n",
    "Xtest = test[:,:100].T\n",
    "ytest = test[:,100]\n",
    "Xtest.shape, ytest.shape"
   ]
  },
  {
   "cell_type": "code",
   "execution_count": 457,
   "metadata": {},
   "outputs": [
    {
     "data": {
      "text/plain": [
       "0.37068490482025923"
      ]
     },
     "execution_count": 457,
     "metadata": {},
     "output_type": "execute_result"
    }
   ],
   "source": [
    "testerr = np.linalg.norm(np.dot(Xtest.T,wtrue)-ytest)**2/500\n",
    "testerr"
   ]
  },
  {
   "cell_type": "code",
   "execution_count": 458,
   "metadata": {},
   "outputs": [
    {
     "data": {
      "text/plain": [
       "0.03968644484384218"
      ]
     },
     "execution_count": 458,
     "metadata": {},
     "output_type": "execute_result"
    }
   ],
   "source": [
    "trainerr = np.linalg.norm(np.dot(X.T,wtrue)-y)**2/10000\n",
    "trainerr"
   ]
  },
  {
   "cell_type": "markdown",
   "metadata": {},
   "source": [
    "Q2 (ii)\n",
    "\n",
    "Now, we will do the same iterative procedure multiple times for multiple values of lambda, and get different final values of w after these. This final value is used to test the validation set and the mean squared error must be stored into an array. We do this for multiple values of lambda and the lambda that gives us least mse on the validation set is the best one."
   ]
  },
  {
   "cell_type": "code",
   "execution_count": 441,
   "metadata": {},
   "outputs": [],
   "source": [
    "def splitK(k):\n",
    "    n = train.shape[0]\n",
    "    indices = np.arange(n)\n",
    "    np.random.shuffle(indices)\n",
    "    fold_size = n // k\n",
    "    splits = []\n",
    "\n",
    "    for i in range(k):\n",
    "        start, end = i * fold_size, (i + 1) * fold_size\n",
    "        val_indices = indices[start:end]\n",
    "        train_indices = np.concatenate((indices[:start], indices[end:]), axis=0)\n",
    "        X_train, y_train = train[train_indices,:100].T, train[train_indices,100]\n",
    "        X_val, y_val = train[val_indices,:100].T, train[val_indices,100]\n",
    "        splits.append(((X_train, y_train), (X_val, y_val)))\n",
    "    \n",
    "    return splits"
   ]
  },
  {
   "cell_type": "code",
   "execution_count": 442,
   "metadata": {},
   "outputs": [
    {
     "name": "stdout",
     "output_type": "stream",
     "text": [
      "8\n",
      "Converged at w for lambda =  0.0\n",
      "Final error in w:  1.4641878432069955\n",
      "Val error:  0.2126420584879471\n",
      "Converged at w for lambda =  0.0\n",
      "Final error in w:  1.4571594721326253\n",
      "Val error:  0.21735995908858732\n",
      "Converged at w for lambda =  0.0\n",
      "Final error in w:  1.4547957104942852\n",
      "Val error:  0.2196452760309583\n",
      "Converged at w for lambda =  0.0\n",
      "Final error in w:  1.4601618418483233\n",
      "Val error:  0.20328132662213355\n",
      "Converged at w for lambda =  0.0\n",
      "Final error in w:  1.455147624035598\n",
      "Val error:  0.21775044810975383\n",
      "Converged at w for lambda =  0.0\n",
      "Final error in w:  1.4596703721325746\n",
      "Val error:  0.22462618005475532\n",
      "Converged at w for lambda =  0.0\n",
      "Final error in w:  1.4624241308795973\n",
      "Val error:  0.213942082406595\n",
      "Converged at w for lambda =  0.0\n",
      "Final error in w:  1.4590976217866407\n",
      "Val error:  0.20993846081243928\n",
      "8\n",
      "Converged at w for lambda =  0.01\n",
      "Final error in w:  1.4568078792020143\n",
      "Val error:  0.2128639761344605\n",
      "Converged at w for lambda =  0.01\n",
      "Final error in w:  1.454378332084087\n",
      "Val error:  0.21536030829014272\n",
      "Converged at w for lambda =  0.01\n",
      "Final error in w:  1.457357647500687\n",
      "Val error:  0.21692119922389203\n",
      "Converged at w for lambda =  0.01\n",
      "Final error in w:  1.4611911162850282\n",
      "Val error:  0.20917281361087545\n",
      "Converged at w for lambda =  0.01\n",
      "Final error in w:  1.4650060118288566\n",
      "Val error:  0.2231187158349894\n",
      "Converged at w for lambda =  0.01\n",
      "Final error in w:  1.466022088805591\n",
      "Val error:  0.2167221463831212\n",
      "Converged at w for lambda =  0.01\n",
      "Final error in w:  1.4597231990288801\n",
      "Val error:  0.2015954297046535\n",
      "Converged at w for lambda =  0.01\n",
      "Final error in w:  1.4520485557314746\n",
      "Val error:  0.2233307114157319\n",
      "8\n",
      "Converged at w for lambda =  0.02\n",
      "Final error in w:  1.4580251471618124\n",
      "Val error:  0.21322336745567472\n",
      "Converged at w for lambda =  0.02\n",
      "Final error in w:  1.454193483673222\n",
      "Val error:  0.2083961324052724\n",
      "Converged at w for lambda =  0.02\n",
      "Final error in w:  1.4640603228305706\n",
      "Val error:  0.21745339258144677\n",
      "Converged at w for lambda =  0.02\n",
      "Final error in w:  1.4606660416946984\n",
      "Val error:  0.21883819247678662\n",
      "Converged at w for lambda =  0.02\n",
      "Final error in w:  1.4626769477698498\n",
      "Val error:  0.21519962038640228\n",
      "Converged at w for lambda =  0.02\n",
      "Final error in w:  1.4565315502274607\n",
      "Val error:  0.21871417050563988\n",
      "Converged at w for lambda =  0.02\n",
      "Final error in w:  1.4560300362062382\n",
      "Val error:  0.21961837902159104\n",
      "Converged at w for lambda =  0.02\n",
      "Final error in w:  1.4599561036026798\n",
      "Val error:  0.20799089854364797\n",
      "8\n",
      "Converged at w for lambda =  0.03\n",
      "Final error in w:  1.4589415810236326\n",
      "Val error:  0.22652190937668584\n",
      "Converged at w for lambda =  0.03\n",
      "Final error in w:  1.4584585089011008\n",
      "Val error:  0.21094125012671738\n",
      "Converged at w for lambda =  0.03\n",
      "Final error in w:  1.4607407944074233\n",
      "Val error:  0.22035895161726549\n",
      "Converged at w for lambda =  0.03\n",
      "Final error in w:  1.4595380174403396\n",
      "Val error:  0.20724657538501978\n",
      "Converged at w for lambda =  0.03\n",
      "Final error in w:  1.4566404760760263\n",
      "Val error:  0.21253305239628098\n",
      "Converged at w for lambda =  0.03\n",
      "Final error in w:  1.4560987038631985\n",
      "Val error:  0.2251671652245438\n",
      "Converged at w for lambda =  0.03\n",
      "Final error in w:  1.462467127445708\n",
      "Val error:  0.202778324776565\n",
      "Converged at w for lambda =  0.03\n",
      "Final error in w:  1.458877984564624\n",
      "Val error:  0.21368093796745993\n",
      "8\n",
      "Converged at w for lambda =  0.04\n",
      "Final error in w:  1.4619576207784715\n",
      "Val error:  0.21510845909736154\n",
      "Converged at w for lambda =  0.04\n",
      "Final error in w:  1.4617010883462986\n",
      "Val error:  0.2061716832354461\n",
      "Converged at w for lambda =  0.04\n",
      "Final error in w:  1.460422137632743\n",
      "Val error:  0.21838381646980934\n",
      "Converged at w for lambda =  0.04\n",
      "Final error in w:  1.4575365660217887\n",
      "Val error:  0.21228771973949898\n",
      "Converged at w for lambda =  0.04\n",
      "Final error in w:  1.4532695048459687\n",
      "Val error:  0.21646493294575153\n",
      "Converged at w for lambda =  0.04\n",
      "Final error in w:  1.4568028136921227\n",
      "Val error:  0.22576288835218655\n",
      "Converged at w for lambda =  0.04\n",
      "Final error in w:  1.4596468292887887\n",
      "Val error:  0.212845746952274\n",
      "Converged at w for lambda =  0.04\n",
      "Final error in w:  1.4612237872610134\n",
      "Val error:  0.21193597956016746\n",
      "8\n",
      "Converged at w for lambda =  0.05\n",
      "Final error in w:  1.4565476688107166\n",
      "Val error:  0.2023120557913873\n",
      "Converged at w for lambda =  0.05\n",
      "Final error in w:  1.4573706686688659\n",
      "Val error:  0.2268524437876494\n",
      "Converged at w for lambda =  0.05\n",
      "Final error in w:  1.4584536175814393\n",
      "Val error:  0.2094356444166488\n",
      "Converged at w for lambda =  0.05\n",
      "Final error in w:  1.460512864373783\n",
      "Val error:  0.2235515972864324\n",
      "Converged at w for lambda =  0.05\n",
      "Final error in w:  1.4642201453059251\n",
      "Val error:  0.21828112122614343\n",
      "Converged at w for lambda =  0.05\n",
      "Final error in w:  1.4622245923786783\n",
      "Val error:  0.19695928812524108\n",
      "Converged at w for lambda =  0.05\n",
      "Final error in w:  1.4584060656022386\n",
      "Val error:  0.20929865275601892\n",
      "Converged at w for lambda =  0.05\n",
      "Final error in w:  1.4536294721255345\n",
      "Val error:  0.232722290469586\n",
      "8\n",
      "Converged at w for lambda =  0.06\n",
      "Final error in w:  1.4597539522750396\n",
      "Val error:  0.21556080127477034\n",
      "Converged at w for lambda =  0.06\n",
      "Final error in w:  1.4577760574815997\n",
      "Val error:  0.19856509589440924\n",
      "Converged at w for lambda =  0.06\n",
      "Final error in w:  1.454895855343651\n",
      "Val error:  0.22658090198692016\n",
      "Converged at w for lambda =  0.06\n",
      "Final error in w:  1.4527818296629478\n",
      "Val error:  0.22343784350457113\n",
      "Converged at w for lambda =  0.06\n",
      "Final error in w:  1.4597793952492313\n",
      "Val error:  0.21517805703308876\n",
      "Converged at w for lambda =  0.06\n",
      "Final error in w:  1.4626083476280698\n",
      "Val error:  0.2147184942228415\n",
      "Converged at w for lambda =  0.06\n",
      "Final error in w:  1.4578916700346465\n",
      "Val error:  0.2124598429694858\n",
      "Converged at w for lambda =  0.06\n",
      "Final error in w:  1.4659409632070617\n",
      "Val error:  0.21391026859808435\n",
      "8\n",
      "Converged at w for lambda =  0.07\n",
      "Final error in w:  1.453996074025293\n",
      "Val error:  0.21570649404446243\n",
      "Converged at w for lambda =  0.07\n",
      "Final error in w:  1.4597086786686542\n",
      "Val error:  0.22553305831322723\n",
      "Converged at w for lambda =  0.07\n",
      "Final error in w:  1.4564438009995992\n",
      "Val error:  0.22720657080621084\n",
      "Converged at w for lambda =  0.07\n",
      "Final error in w:  1.463578712639357\n",
      "Val error:  0.20764523271134727\n",
      "Converged at w for lambda =  0.07\n",
      "Final error in w:  1.454605613163832\n",
      "Val error:  0.20555798350504811\n",
      "Converged at w for lambda =  0.07\n",
      "Final error in w:  1.4649633155990198\n",
      "Val error:  0.20690072774407864\n",
      "Converged at w for lambda =  0.07\n",
      "Final error in w:  1.4572681579547708\n",
      "Val error:  0.21575979007722143\n",
      "Converged at w for lambda =  0.07\n",
      "Final error in w:  1.4610198925723308\n",
      "Val error:  0.21545743244028354\n",
      "8\n",
      "Converged at w for lambda =  0.08\n",
      "Final error in w:  1.4576063756046094\n",
      "Val error:  0.22360046591358823\n",
      "Converged at w for lambda =  0.08\n",
      "Final error in w:  1.4553738968608725\n",
      "Val error:  0.21728477975797422\n",
      "Converged at w for lambda =  0.08\n",
      "Final error in w:  1.4620919138986088\n",
      "Val error:  0.2139860610632943\n",
      "Converged at w for lambda =  0.08\n",
      "Final error in w:  1.4615735878532639\n",
      "Val error:  0.21418956271688858\n",
      "Converged at w for lambda =  0.08\n",
      "Final error in w:  1.458957039413468\n",
      "Val error:  0.2096230826452461\n",
      "Converged at w for lambda =  0.08\n",
      "Final error in w:  1.4626700320045896\n",
      "Val error:  0.22253509564233553\n",
      "Converged at w for lambda =  0.08\n",
      "Final error in w:  1.4569475119436082\n",
      "Val error:  0.206313154992676\n",
      "Converged at w for lambda =  0.08\n",
      "Final error in w:  1.4569864634338352\n",
      "Val error:  0.21154539950872578\n",
      "8\n",
      "Converged at w for lambda =  0.09\n",
      "Final error in w:  1.4623566887151898\n",
      "Val error:  0.20336826342265882\n",
      "Converged at w for lambda =  0.09\n",
      "Final error in w:  1.464830548197042\n",
      "Val error:  0.21351592515829015\n",
      "Converged at w for lambda =  0.09\n",
      "Final error in w:  1.4571233909451242\n",
      "Val error:  0.21837676147931434\n",
      "Converged at w for lambda =  0.09\n",
      "Final error in w:  1.4607985867593478\n",
      "Val error:  0.22213128751032185\n",
      "Converged at w for lambda =  0.09\n",
      "Final error in w:  1.4602167379921447\n",
      "Val error:  0.20336950108287088\n",
      "Converged at w for lambda =  0.09\n",
      "Final error in w:  1.4569840718784548\n",
      "Val error:  0.22262673351643403\n",
      "Converged at w for lambda =  0.09\n",
      "Final error in w:  1.4553632045645264\n",
      "Val error:  0.22217584505751756\n",
      "Converged at w for lambda =  0.09\n",
      "Final error in w:  1.4538744876795346\n",
      "Val error:  0.21399551690646093\n"
     ]
    }
   ],
   "source": [
    "mse_arr = []\n",
    "for l in range(10):\n",
    "    splits = splitK(8)\n",
    "    print(len(splits))\n",
    "    \n",
    "    mse_splits = []\n",
    "    for split in splits:\n",
    "        X,y = split[0]\n",
    "        Xval, yval = split[1]\n",
    "\n",
    "        whist = []\n",
    "        w = np.ones((100,)) \n",
    "        for i in range(100):\n",
    "            whist.append(w)\n",
    "            grad = np.dot(X, np.dot(X.T, w)) - np.dot(X,y) + 0.01*l*w\n",
    "            w = w - 0.000001*grad\n",
    "        print(\"Converged at w for lambda = \", l*0.01)\n",
    "\n",
    "        wtrue = np.dot(np.linalg.inv(np.dot(X,X.T)+0.005*l*np.eye(X.shape[0])),np.dot(X,y))\n",
    "        print(\"Final error in w: \",np.linalg.norm(whist[-1]-wtrue))\n",
    "\n",
    "        val_mse = ((np.dot(Xval.T, w) - yval)**2).mean(axis=0)\n",
    "        print(\"Val error: \",val_mse)\n",
    "        mse_splits.append(val_mse)\n",
    "    \n",
    "    \n",
    "    mse_arr.append(np.mean(mse_splits))\n"
   ]
  },
  {
   "cell_type": "code",
   "execution_count": 443,
   "metadata": {},
   "outputs": [
    {
     "data": {
      "image/png": "[encoded data removed]",
      "text/plain": [
       "<Figure size 640x480 with 1 Axes>"
      ]
     },
     "metadata": {},
     "output_type": "display_data"
    }
   ],
   "source": [
    "plt.plot(mse_arr)\n",
    "plt.title(\"Validation MSE vs Lambda\")\n",
    "plt.xlabel('Lambda (in 10^-2)')\n",
    "plt.ylabel('Validation MSE')\n",
    "plt.show()"
   ]
  },
  {
   "cell_type": "code",
   "execution_count": 444,
   "metadata": {},
   "outputs": [
    {
     "data": {
      "text/plain": [
       "[0.2148982239516462,\n",
       " 0.21488566257473335,\n",
       " 0.21492926917205774,\n",
       " 0.21490352085881725,\n",
       " 0.21487015329406195,\n",
       " 0.21492663673238843,\n",
       " 0.21505141318552143,\n",
       " 0.21497091120523493,\n",
       " 0.2148847002800911,\n",
       " 0.21494497926673356]"
      ]
     },
     "execution_count": 444,
     "metadata": {},
     "output_type": "execute_result"
    }
   ],
   "source": [
    "mse_arr"
   ]
  },
  {
   "cell_type": "code",
   "execution_count": 445,
   "metadata": {},
   "outputs": [
    {
     "data": {
      "text/plain": [
       "(0.21487015329406195, 4)"
      ]
     },
     "execution_count": 445,
     "metadata": {},
     "output_type": "execute_result"
    }
   ],
   "source": [
    "min(mse_arr),np.argmin(mse_arr)"
   ]
  },
  {
   "cell_type": "code",
   "execution_count": 446,
   "metadata": {},
   "outputs": [
    {
     "data": {
      "text/plain": [
       "(array([[0.21302 , 0.32563 , 0.49539 , ..., 0.24582 , 0.31768 , 0.46955 ],\n",
       "        [0.44621 , 0.70399 , 0.62357 , ..., 0.32062 , 0.93775 , 0.3374  ],\n",
       "        [0.51432 , 0.3197  , 0.58121 , ..., 0.79933 , 0.91269 , 0.58504 ],\n",
       "        ...,\n",
       "        [0.90491 , 0.42134 , 0.46741 , ..., 0.44786 , 0.099705, 0.20049 ],\n",
       "        [0.91718 , 0.90906 , 0.67303 , ..., 0.78741 , 0.82134 , 0.68189 ],\n",
       "        [0.68321 , 0.61539 , 0.60459 , ..., 0.11548 , 0.71902 , 0.49566 ]]),\n",
       " array([2.0121 , 1.8164 , 1.6435 , 2.7451 , 1.8932 , 2.4248 , 2.1083 ,\n",
       "        2.5188 , 1.7084 , 1.9287 , 3.3358 , 1.9751 , 1.6655 , 2.3721 ,\n",
       "        2.1269 , 2.3718 , 1.7935 , 2.1989 , 2.0102 , 1.6361 , 2.2609 ,\n",
       "        1.9935 , 2.8229 , 2.2451 , 2.3813 , 2.6078 , 2.2134 , 2.3708 ,\n",
       "        2.5058 , 2.8999 , 1.9289 , 1.7465 , 2.155  , 2.5551 , 2.038  ,\n",
       "        1.7588 , 2.42   , 1.236  , 1.6152 , 1.7666 , 2.3065 , 2.7461 ,\n",
       "        2.4213 , 2.5514 , 2.3282 , 1.6925 , 2.5922 , 2.0712 , 2.4507 ,\n",
       "        3.0613 , 1.9076 , 2.3518 , 1.9291 , 2.3861 , 2.8213 , 2.2493 ,\n",
       "        1.5698 , 2.7452 , 2.554  , 2.4884 , 2.236  , 2.3346 , 1.7769 ,\n",
       "        2.7274 , 2.5197 , 2.261  , 1.8043 , 3.1483 , 3.0499 , 2.398  ,\n",
       "        1.4566 , 2.7086 , 2.814  , 2.3211 , 2.1229 , 1.6882 , 1.1392 ,\n",
       "        2.4778 , 2.8534 , 1.8874 , 2.03   , 2.0939 , 1.7944 , 1.944  ,\n",
       "        2.1493 , 2.9744 , 2.7268 , 2.4652 , 2.4328 , 2.0006 , 1.743  ,\n",
       "        2.8414 , 2.6496 , 2.6898 , 2.267  , 1.6067 , 1.781  , 1.7098 ,\n",
       "        1.7962 , 1.9249 , 2.3828 , 2.1624 , 2.0844 , 2.16   , 1.9276 ,\n",
       "        1.7591 , 0.90261, 3.0169 , 2.3698 , 1.9406 , 2.8227 , 2.6305 ,\n",
       "        2.7466 , 2.7075 , 2.2708 , 2.4715 , 1.6764 , 1.4833 , 2.5048 ,\n",
       "        1.8334 , 2.118  , 1.9205 , 1.7965 , 2.5929 , 1.7133 , 2.5281 ,\n",
       "        3.0633 , 2.6913 , 2.1405 , 2.8091 , 1.1788 , 1.7527 , 1.9486 ,\n",
       "        2.632  , 2.0856 , 2.1082 , 1.3486 , 1.7395 , 1.3124 , 2.3475 ,\n",
       "        2.1576 , 2.0942 , 3.4487 , 3.2036 , 2.4715 , 2.0794 , 2.1629 ,\n",
       "        1.835  , 2.3238 , 2.4806 , 1.8381 , 2.3654 , 2.0164 , 1.5417 ,\n",
       "        1.7237 , 2.1919 , 2.2664 , 2.7968 , 2.6882 , 2.8411 , 2.0768 ,\n",
       "        1.6489 , 1.1957 , 2.1282 , 2.3408 , 1.2509 , 2.7713 , 1.5213 ,\n",
       "        2.8225 , 2.1427 , 1.3589 , 1.9064 , 1.121  , 2.3593 , 1.6627 ,\n",
       "        2.5553 , 2.6302 , 2.9729 , 2.2381 , 1.9884 , 1.3198 , 1.2295 ,\n",
       "        1.2053 , 3.6076 , 2.2119 , 2.0686 , 3.2638 , 3.2512 , 2.0511 ,\n",
       "        1.9833 , 1.9991 , 1.3993 , 1.6905 , 2.5089 , 2.4091 , 1.8519 ,\n",
       "        3.1295 , 2.9974 , 2.2646 , 2.5951 , 2.664  , 2.3227 , 2.6502 ,\n",
       "        2.1874 , 2.7767 , 2.7947 , 2.4304 , 1.3316 , 2.5602 , 1.601  ,\n",
       "        1.766  , 1.7302 , 2.763  , 1.974  , 1.6808 , 2.1634 , 2.2003 ,\n",
       "        2.3112 , 2.3019 , 2.5064 , 1.3743 , 1.9445 , 2.3843 , 2.9745 ,\n",
       "        2.8707 , 2.4096 , 2.9156 , 2.8747 , 2.1747 , 2.0139 , 2.134  ,\n",
       "        2.4506 , 1.8517 , 1.8383 , 2.2307 , 1.8118 , 1.5855 , 2.7342 ,\n",
       "        1.5291 , 1.6824 , 2.6595 , 2.2705 , 1.6743 , 1.6309 , 2.1936 ,\n",
       "        2.0598 , 2.0387 , 1.694  , 1.8266 , 1.9659 , 2.3296 , 2.4812 ,\n",
       "        2.0302 , 2.6046 , 2.1697 , 2.0765 , 1.9848 , 2.6974 , 3.1884 ,\n",
       "        1.6189 , 2.4076 , 1.7028 , 2.3894 , 1.8319 , 2.2863 , 2.5559 ,\n",
       "        3.1546 , 2.6454 , 2.5724 , 2.0233 , 2.7578 , 2.4761 , 2.426  ,\n",
       "        2.6238 , 1.8924 , 2.0715 , 2.5383 , 1.8561 , 3.0518 , 2.1094 ,\n",
       "        2.4364 , 2.3009 , 1.514  , 1.5028 , 2.3604 , 1.6451 , 2.3354 ,\n",
       "        2.1095 , 1.4115 , 2.3167 , 1.208  , 2.0218 , 2.4765 , 2.6669 ,\n",
       "        2.1462 , 2.094  , 2.3354 , 2.0533 , 2.231  , 2.6812 , 2.4776 ,\n",
       "        1.9001 , 1.9456 , 1.667  , 2.3761 , 2.3071 , 1.6489 , 1.8355 ,\n",
       "        1.4936 , 1.995  , 2.1052 , 2.2157 , 1.0434 , 2.376  , 2.7665 ,\n",
       "        1.5343 , 2.7095 , 2.1025 , 2.9482 , 2.937  , 2.5069 , 1.8746 ,\n",
       "        3.0184 , 2.1723 , 1.6591 , 2.6521 , 1.8497 , 2.2415 , 2.1778 ,\n",
       "        3.0292 , 2.5072 , 2.7222 , 1.7372 , 1.8009 , 1.2172 , 2.3852 ,\n",
       "        2.1697 , 2.1285 , 2.3315 , 2.554  , 2.3549 , 2.8165 , 3.1443 ,\n",
       "        2.3687 , 1.645  , 3.0501 , 2.5012 , 3.175  , 2.5627 , 1.7251 ,\n",
       "        2.8176 , 2.248  , 2.541  , 2.0113 , 2.5182 , 2.0693 , 2.1116 ,\n",
       "        2.2553 , 2.6455 , 1.9499 , 1.9086 , 1.7207 , 1.6581 , 1.5016 ,\n",
       "        2.7362 , 2.9526 , 2.2224 , 2.2237 , 2.5208 , 2.2975 , 2.3193 ,\n",
       "        1.9812 , 2.5242 , 2.3017 , 1.7997 , 2.5586 , 1.8511 , 3.2853 ,\n",
       "        2.4849 , 2.3727 , 2.3978 , 1.5648 , 1.6397 , 2.4766 , 2.0627 ,\n",
       "        2.2334 , 1.5355 , 2.166  , 2.6568 , 2.3241 , 2.1992 , 2.5741 ,\n",
       "        2.6927 , 2.8551 , 1.5483 , 1.7713 , 2.1963 , 2.0066 , 1.7295 ,\n",
       "        1.5345 , 2.3986 , 1.4838 , 1.7521 , 2.0044 , 1.9625 , 2.8661 ,\n",
       "        1.1441 , 2.9325 , 1.9906 , 2.4061 , 2.9114 , 1.9215 , 1.8516 ,\n",
       "        1.7804 , 2.1019 , 2.0119 , 1.754  , 1.3727 , 2.0105 , 3.1568 ,\n",
       "        1.992  , 3.0948 , 2.0778 , 1.8315 , 1.8473 , 1.4497 , 1.8829 ,\n",
       "        2.7315 , 2.2246 , 2.5124 , 2.3871 , 1.8466 , 2.9979 , 2.8869 ,\n",
       "        2.1305 , 2.7805 , 2.2849 , 2.0545 , 1.6433 , 2.372  , 1.9935 ,\n",
       "        1.1807 , 1.7534 , 2.1881 , 2.8335 , 1.8612 , 1.5175 , 2.5937 ,\n",
       "        1.8606 , 2.4356 , 3.0801 , 2.4373 , 1.9534 , 1.9847 , 2.4246 ,\n",
       "        1.8052 , 2.1273 , 2.7453 , 2.1895 , 2.5527 , 1.2623 , 1.6557 ,\n",
       "        2.2758 , 2.1367 , 2.5389 , 2.4554 , 2.2635 , 2.5168 , 2.8107 ,\n",
       "        1.9951 , 1.8834 , 2.3955 , 2.1477 , 1.8975 , 3.4035 , 2.5899 ,\n",
       "        2.3692 , 2.5662 , 2.3036 , 2.7373 , 1.7127 , 1.9636 , 1.3792 ,\n",
       "        2.3095 , 1.6232 , 2.5467 , 2.6364 , 1.2815 , 1.453  , 1.9555 ,\n",
       "        2.4866 , 2.5965 , 2.2789 , 2.0022 , 1.7164 , 2.268  , 2.8274 ,\n",
       "        2.8058 , 2.2495 , 2.6856 ]))"
      ]
     },
     "execution_count": 446,
     "metadata": {},
     "output_type": "execute_result"
    }
   ],
   "source": [
    "test = np.array(pd.read_csv(\"A2Data_test.csv\",header=None))\n",
    "Xtest = test[:,:100].T\n",
    "ytest = test[:,100]\n",
    "Xtest, ytest"
   ]
  },
  {
   "cell_type": "code",
   "execution_count": 447,
   "metadata": {},
   "outputs": [
    {
     "data": {
      "text/plain": [
       "0.3707103466753794"
      ]
     },
     "execution_count": 447,
     "metadata": {},
     "output_type": "execute_result"
    }
   ],
   "source": [
    "#Optimum Lambda\n",
    "\n",
    "l = 0.04\n",
    "X = train[:,:100].T\n",
    "y = train[:,100]\n",
    "\n",
    "wR = np.dot(np.linalg.inv(np.dot(X,X.T)+l*np.eye(X.shape[0])),np.dot(X,y))\n",
    "\n",
    "testerr = ((np.dot(Xtest.T,wR)-ytest)**2).mean(axis=0)\n",
    "testerr"
   ]
  },
  {
   "cell_type": "code",
   "execution_count": 448,
   "metadata": {},
   "outputs": [
    {
     "data": {
      "text/plain": [
       "0.37072731116978985"
      ]
     },
     "execution_count": 448,
     "metadata": {},
     "output_type": "execute_result"
    }
   ],
   "source": [
    "wML = np.dot(np.linalg.inv(np.dot(X,X.T)),np.dot(X,y))\n",
    "testerr = ((np.dot(Xtest.T,wML)-ytest)**2).mean(axis=0)\n",
    "testerr"
   ]
  }
 ],
 "metadata": {
  "interpreter": {
   "hash": "1d2fc1f41f87930075ed79b26b6061e2ddffe28e5e0c6450f4b789a714da5888"
  },
  "kernelspec": {
   "display_name": "Python 3.9.13 64-bit ('base': conda)",
   "name": "python3"
  },
  "language_info": {
   "codemirror_mode": {
    "name": "ipython",
    "version": 3
   },
   "file_extension": ".py",
   "mimetype": "text/x-python",
   "name": "python",
   "nbconvert_exporter": "python",
   "pygments_lexer": "ipython3",
   "version": "3.9.13"
  },
  "orig_nbformat": 4
 },
 "nbformat": 4,
 "nbformat_minor": 2
}