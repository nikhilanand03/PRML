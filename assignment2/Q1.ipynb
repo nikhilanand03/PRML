{
 "cells": [
  {
   "cell_type": "markdown",
   "metadata": {},
   "source": [
    "Question 1 (i)"
   ]
  },
  {
   "cell_type": "code",
   "execution_count": null,
   "metadata": {},
   "outputs": [],
   "source": [
    "import pandas as pd\n",
    "import numpy as np\n",
    "import matplotlib.pyplot as plt"
   ]
  },
  {
   "cell_type": "code",
   "execution_count": null,
   "metadata": {},
   "outputs": [],
   "source": [
    "df = pd.read_csv(\"A2Data_train.csv\",header=None)\n",
    "data = np.array(df)\n",
    "data"
   ]
  },
  {
   "cell_type": "code",
   "execution_count": null,
   "metadata": {},
   "outputs": [],
   "source": [
    "data.shape"
   ]
  },
  {
   "cell_type": "code",
   "execution_count": null,
   "metadata": {},
   "outputs": [],
   "source": [
    "x = data[:,:100]\n",
    "y = data[:,100]"
   ]
  },
  {
   "cell_type": "code",
   "execution_count": null,
   "metadata": {},
   "outputs": [],
   "source": [
    "x.shape,y.shape"
   ]
  },
  {
   "cell_type": "code",
   "execution_count": null,
   "metadata": {},
   "outputs": [],
   "source": [
    "X = np.transpose(x)\n",
    "print(X)"
   ]
  },
  {
   "cell_type": "markdown",
   "metadata": {},
   "source": [
    "Using the closed form of w, we compute as given below:"
   ]
  },
  {
   "cell_type": "code",
   "execution_count": null,
   "metadata": {},
   "outputs": [],
   "source": [
    "w = np.dot(np.linalg.inv(np.dot(X, X.T)), np.dot(X, y))"
   ]
  },
  {
   "cell_type": "markdown",
   "metadata": {},
   "source": [
    "Thus for the given X and y matrices, we have found the w that minimises ||XTw - y||"
   ]
  },
  {
   "cell_type": "code",
   "execution_count": null,
   "metadata": {},
   "outputs": [],
   "source": [
    "w.shape"
   ]
  },
  {
   "cell_type": "code",
   "execution_count": null,
   "metadata": {},
   "outputs": [],
   "source": [
    "test = pd.read_csv(\"A2Data_test.csv\",header=None)\n",
    "test = np.array(test)\n",
    "test,test.shape"
   ]
  },
  {
   "cell_type": "code",
   "execution_count": null,
   "metadata": {},
   "outputs": [],
   "source": [
    "Xtest = test[:,:100].T\n",
    "ytest = test[:,100]"
   ]
  },
  {
   "cell_type": "code",
   "execution_count": null,
   "metadata": {},
   "outputs": [],
   "source": [
    "testerr = ((np.dot(Xtest.T, w) - ytest)**2).mean(axis=0)\n",
    "testerr"
   ]
  },
  {
   "cell_type": "code",
   "execution_count": null,
   "metadata": {},
   "outputs": [],
   "source": [
    "# training error of the w trained with train data (ie, the very objective we are minimising)\n",
    "trainerr = ((np.dot(X.T, w) - y)**2).mean(axis=0)\n",
    "trainerr\n"
   ]
  },
  {
   "cell_type": "markdown",
   "metadata": {},
   "source": [
    "1 (ii) Now coding the gradient descent (steepest descent)"
   ]
  },
  {
   "cell_type": "code",
   "execution_count": null,
   "metadata": {},
   "outputs": [],
   "source": [
    "whist = []\n",
    "whist.append(np.ones((100,)))\n",
    "for i in range(900):\n",
    "    whist.append(whist[-1] - 0.000007*(np.dot(X, X.T)@whist[-1] - np.dot(X, y)))\n",
    "    # print(whist[i])\n"
   ]
  },
  {
   "cell_type": "code",
   "execution_count": null,
   "metadata": {},
   "outputs": [],
   "source": [
    "whist = np.array(whist)\n",
    "whist.shape"
   ]
  },
  {
   "cell_type": "code",
   "execution_count": null,
   "metadata": {},
   "outputs": [],
   "source": [
    "arr = [np.linalg.norm(whist[i]-w) for i in range(len(whist))]\n",
    "plt.plot(arr)\n",
    "plt.title(\"Error of w for Gradient Descent\")\n",
    "plt.xlabel('Iteration i')\n",
    "plt.ylabel('||whist[i] - w||')\n",
    "plt.show()"
   ]
  },
  {
   "cell_type": "code",
   "execution_count": null,
   "metadata": {},
   "outputs": [],
   "source": [
    "np.linalg.norm(whist[-1]-w)"
   ]
  },
  {
   "cell_type": "code",
   "execution_count": null,
   "metadata": {},
   "outputs": [],
   "source": [
    "testerr = ((np.dot(Xtest.T, whist[-1]) - ytest)**2).mean(axis=0)\n",
    "testerr"
   ]
  },
  {
   "cell_type": "markdown",
   "metadata": {},
   "source": [
    "1 (iii) Stochastic Gradient Descent"
   ]
  },
  {
   "cell_type": "code",
   "execution_count": null,
   "metadata": {},
   "outputs": [],
   "source": [
    "def sampleHundred():\n",
    "    n = data.shape[1]\n",
    "    indices = np.random.choice(n, size=100, replace=False)\n",
    "    sampled_X = data[indices]\n",
    "    return sampled_X"
   ]
  },
  {
   "cell_type": "code",
   "execution_count": null,
   "metadata": {},
   "outputs": [],
   "source": [
    "sampleHundred().shape"
   ]
  },
  {
   "cell_type": "code",
   "execution_count": null,
   "metadata": {},
   "outputs": [],
   "source": [
    "T = 5000\n",
    "whist2 = []\n",
    "wc = np.ones((100,))\n",
    "wcarr = []\n",
    "for t in range(T):\n",
    "    wcarr.append(wc)\n",
    "    whist2.append(np.mean(wcarr,axis=0))\n",
    "\n",
    "    M = sampleHundred()\n",
    "    Xnew = M[:,:100]\n",
    "    y = M[:,100]\n",
    "    wc = wc - 0.00001*(np.dot(Xnew, Xnew.T)@wc - np.dot(Xnew, y))\n",
    "    "
   ]
  },
  {
   "cell_type": "code",
   "execution_count": null,
   "metadata": {},
   "outputs": [],
   "source": [
    "arr2 = [np.linalg.norm(whist2[i]-w) for i in range(len(whist2))]\n",
    "plt.plot(arr2)\n",
    "plt.title(\"Error of w for Stochastic Gradient Descent\")\n",
    "plt.xlabel('Iteration i')\n",
    "plt.ylabel('||w_hist[i] - w||')\n",
    "plt.show()"
   ]
  },
  {
   "cell_type": "code",
   "execution_count": null,
   "metadata": {},
   "outputs": [],
   "source": [
    "np.linalg.norm(whist2[-1]-w)"
   ]
  },
  {
   "cell_type": "code",
   "execution_count": null,
   "metadata": {},
   "outputs": [],
   "source": [
    "testerr = ((np.dot(Xtest.T,whist2[-1])-ytest)**2).mean(axis=0)\n",
    "testerr"
   ]
  },
  {
   "cell_type": "code",
   "execution_count": null,
   "metadata": {},
   "outputs": [],
   "source": [
    "arr2 = [np.linalg.norm(wcarr[i]-w) for i in range(len(wcarr))]\n",
    "plt.plot(arr2)\n",
    "plt.xlabel('Iteration')\n",
    "plt.ylabel('|w_hist[i] - w|')\n",
    "plt.show()"
   ]
  },
  {
   "cell_type": "code",
   "execution_count": null,
   "metadata": {},
   "outputs": [],
   "source": [
    "np.linalg.norm(wcarr[i]-w)"
   ]
  }
 ],
 "metadata": {
  "interpreter": {
   "hash": "1d2fc1f41f87930075ed79b26b6061e2ddffe28e5e0c6450f4b789a714da5888"
  },
  "kernelspec": {
   "display_name": "Python 3.9.13 64-bit ('base': conda)",
   "name": "python3"
  },
  "language_info": {
   "codemirror_mode": {
    "name": "ipython",
    "version": 3
   },
   "file_extension": ".py",
   "mimetype": "text/x-python",
   "name": "python",
   "nbconvert_exporter": "python",
   "pygments_lexer": "ipython3",
   "version": "3.9.13"
  },
  "orig_nbformat": 4
 },
 "nbformat": 4,
 "nbformat_minor": 2
}